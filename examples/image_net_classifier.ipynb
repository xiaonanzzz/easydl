{
 "cells": [
  {
   "cell_type": "code",
   "execution_count": 1,
   "metadata": {},
   "outputs": [
    {
     "name": "stdout",
     "output_type": "stream",
     "text": [
      "label: beagle, score: 0.23090136051177979\n"
     ]
    }
   ],
   "source": [
    "from easydl.clf.pytorch_models import create_imagenet_resnet18_classifier\n",
    "classifier = create_imagenet_resnet18_classifier()\n",
    "image = 'https://images.pexels.com/photos/406014/pexels-photo-406014.jpeg'\n",
    "label, score = classifier.predict_label_with_confidence(image)\n",
    "print(f\"label: {label}, score: {score}\")"
   ]
  },
  {
   "cell_type": "code",
   "execution_count": null,
   "metadata": {},
   "outputs": [],
   "source": []
  }
 ],
 "metadata": {
  "kernelspec": {
   "display_name": "base",
   "language": "python",
   "name": "python3"
  },
  "language_info": {
   "codemirror_mode": {
    "name": "ipython",
    "version": 3
   },
   "file_extension": ".py",
   "mimetype": "text/x-python",
   "name": "python",
   "nbconvert_exporter": "python",
   "pygments_lexer": "ipython3",
   "version": "3.12.4"
  }
 },
 "nbformat": 4,
 "nbformat_minor": 2
}
